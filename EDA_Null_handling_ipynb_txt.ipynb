{
  "nbformat": 4,
  "nbformat_minor": 0,
  "metadata": {
    "colab": {
      "provenance": [],
      "include_colab_link": true
    },
    "kernelspec": {
      "name": "python3",
      "display_name": "Python 3"
    },
    "language_info": {
      "name": "python"
    }
  },
  "cells": [
    {
      "cell_type": "markdown",
      "metadata": {
        "id": "view-in-github",
        "colab_type": "text"
      },
      "source": [
        "<a href=\"https://colab.research.google.com/github/BeLearningMachine/NullValueHandling/blob/main/EDA_Null_handling_ipynb_txt.ipynb\" target=\"_parent\"><img src=\"https://colab.research.google.com/assets/colab-badge.svg\" alt=\"Open In Colab\"/></a>"
      ]
    },
    {
      "cell_type": "markdown",
      "source": [
        "Loading the lib"
      ],
      "metadata": {
        "id": "KWRsmWI-B7l3"
      }
    },
    {
      "cell_type": "code",
      "execution_count": 1,
      "metadata": {
        "id": "oqP0-JMAT4bj"
      },
      "outputs": [],
      "source": [
        "import numpy as np\n",
        "import pandas as pd\n",
        "import matplotlib.pyplot as plt\n",
        "from scipy.optimize import curve_fit"
      ]
    },
    {
      "cell_type": "code",
      "source": [
        "pf =  pd.read_csv('/content/Churn_Modelling.csv')"
      ],
      "metadata": {
        "id": "mXN6U9Pwi7O3"
      },
      "execution_count": 2,
      "outputs": []
    },
    {
      "cell_type": "code",
      "source": [
        "[[pf.info()]]"
      ],
      "metadata": {
        "colab": {
          "base_uri": "https://localhost:8080/"
        },
        "id": "JDjHfa0gj98s",
        "outputId": "c7659ec1-dba5-4a96-9d64-7ab9bcc5b8e1"
      },
      "execution_count": 3,
      "outputs": [
        {
          "output_type": "stream",
          "name": "stdout",
          "text": [
            "<class 'pandas.core.frame.DataFrame'>\n",
            "RangeIndex: 10000 entries, 0 to 9999\n",
            "Data columns (total 14 columns):\n",
            " #   Column           Non-Null Count  Dtype  \n",
            "---  ------           --------------  -----  \n",
            " 0   RowNumber        10000 non-null  int64  \n",
            " 1   CustomerId       10000 non-null  int64  \n",
            " 2   Surname          10000 non-null  object \n",
            " 3   CreditScore      10000 non-null  int64  \n",
            " 4   Geography        10000 non-null  object \n",
            " 5   Gender           10000 non-null  object \n",
            " 6   Age              10000 non-null  int64  \n",
            " 7   Tenure           10000 non-null  int64  \n",
            " 8   Balance          10000 non-null  float64\n",
            " 9   NumOfProducts    10000 non-null  int64  \n",
            " 10  HasCrCard        10000 non-null  int64  \n",
            " 11  IsActiveMember   10000 non-null  int64  \n",
            " 12  EstimatedSalary  10000 non-null  float64\n",
            " 13  Exited           10000 non-null  int64  \n",
            "dtypes: float64(2), int64(9), object(3)\n",
            "memory usage: 1.1+ MB\n"
          ]
        },
        {
          "output_type": "execute_result",
          "data": {
            "text/plain": [
              "[[None]]"
            ]
          },
          "metadata": {},
          "execution_count": 3
        }
      ]
    },
    {
      "cell_type": "code",
      "source": [
        "pf.loc[pf.sample(frac=0.1).index, 'Age'] = np.nan\n",
        "pf.loc[pf.sample(frac=0.05).index, 'Gender'] = np.nan\n",
        "print(pf[['Age', 'Gender']].isnull().sum())"
      ],
      "metadata": {
        "colab": {
          "base_uri": "https://localhost:8080/"
        },
        "id": "yDlUOLmmtnJW",
        "outputId": "7190d53b-35ce-4dda-d6e1-c35f61dfc29c"
      },
      "execution_count": 4,
      "outputs": [
        {
          "output_type": "stream",
          "name": "stdout",
          "text": [
            "Age       1000\n",
            "Gender     500\n",
            "dtype: int64\n"
          ]
        }
      ]
    },
    {
      "cell_type": "code",
      "source": [
        "pf.info()"
      ],
      "metadata": {
        "colab": {
          "base_uri": "https://localhost:8080/"
        },
        "id": "-OtvRVckuEMm",
        "outputId": "ad0ee0bf-c077-4684-a38b-c2519d8a5a58"
      },
      "execution_count": 5,
      "outputs": [
        {
          "output_type": "stream",
          "name": "stdout",
          "text": [
            "<class 'pandas.core.frame.DataFrame'>\n",
            "RangeIndex: 10000 entries, 0 to 9999\n",
            "Data columns (total 14 columns):\n",
            " #   Column           Non-Null Count  Dtype  \n",
            "---  ------           --------------  -----  \n",
            " 0   RowNumber        10000 non-null  int64  \n",
            " 1   CustomerId       10000 non-null  int64  \n",
            " 2   Surname          10000 non-null  object \n",
            " 3   CreditScore      10000 non-null  int64  \n",
            " 4   Geography        10000 non-null  object \n",
            " 5   Gender           9500 non-null   object \n",
            " 6   Age              9000 non-null   float64\n",
            " 7   Tenure           10000 non-null  int64  \n",
            " 8   Balance          10000 non-null  float64\n",
            " 9   NumOfProducts    10000 non-null  int64  \n",
            " 10  HasCrCard        10000 non-null  int64  \n",
            " 11  IsActiveMember   10000 non-null  int64  \n",
            " 12  EstimatedSalary  10000 non-null  float64\n",
            " 13  Exited           10000 non-null  int64  \n",
            "dtypes: float64(3), int64(8), object(3)\n",
            "memory usage: 1.1+ MB\n"
          ]
        }
      ]
    },
    {
      "cell_type": "code",
      "source": [
        "print(pf.isnull().sum())"
      ],
      "metadata": {
        "colab": {
          "base_uri": "https://localhost:8080/"
        },
        "id": "iwmJ1UgnuLGm",
        "outputId": "4cc272bc-a79e-4d00-ae81-60844d464dcc"
      },
      "execution_count": 6,
      "outputs": [
        {
          "output_type": "stream",
          "name": "stdout",
          "text": [
            "RowNumber             0\n",
            "CustomerId            0\n",
            "Surname               0\n",
            "CreditScore           0\n",
            "Geography             0\n",
            "Gender              500\n",
            "Age                1000\n",
            "Tenure                0\n",
            "Balance               0\n",
            "NumOfProducts         0\n",
            "HasCrCard             0\n",
            "IsActiveMember        0\n",
            "EstimatedSalary       0\n",
            "Exited                0\n",
            "dtype: int64\n"
          ]
        }
      ]
    },
    {
      "cell_type": "markdown",
      "source": [
        "## A = Handling the Missing DATA\n",
        "1. delecting the columns with missing data\n"
      ],
      "metadata": {
        "id": "4HFjGaWEumHA"
      }
    },
    {
      "cell_type": "code",
      "source": [
        "update_pff = pf.dropna(axis=1)\n",
        "#axis - Perform operations for column"
      ],
      "metadata": {
        "id": "eQgv_8jjvFsh"
      },
      "execution_count": 7,
      "outputs": []
    },
    {
      "cell_type": "code",
      "source": [
        "update_pff.info()\n",
        "#null valur columns are gone"
      ],
      "metadata": {
        "colab": {
          "base_uri": "https://localhost:8080/"
        },
        "id": "GSA9BHl3v-Jw",
        "outputId": "79e0c56c-d705-4346-fa10-7f8a35926a19"
      },
      "execution_count": 8,
      "outputs": [
        {
          "output_type": "stream",
          "name": "stdout",
          "text": [
            "<class 'pandas.core.frame.DataFrame'>\n",
            "RangeIndex: 10000 entries, 0 to 9999\n",
            "Data columns (total 12 columns):\n",
            " #   Column           Non-Null Count  Dtype  \n",
            "---  ------           --------------  -----  \n",
            " 0   RowNumber        10000 non-null  int64  \n",
            " 1   CustomerId       10000 non-null  int64  \n",
            " 2   Surname          10000 non-null  object \n",
            " 3   CreditScore      10000 non-null  int64  \n",
            " 4   Geography        10000 non-null  object \n",
            " 5   Tenure           10000 non-null  int64  \n",
            " 6   Balance          10000 non-null  float64\n",
            " 7   NumOfProducts    10000 non-null  int64  \n",
            " 8   HasCrCard        10000 non-null  int64  \n",
            " 9   IsActiveMember   10000 non-null  int64  \n",
            " 10  EstimatedSalary  10000 non-null  float64\n",
            " 11  Exited           10000 non-null  int64  \n",
            "dtypes: float64(2), int64(8), object(2)\n",
            "memory usage: 937.6+ KB\n"
          ]
        }
      ]
    },
    {
      "cell_type": "markdown",
      "source": [
        "2. Delecting the Row with missing data"
      ],
      "metadata": {
        "id": "g6odO8A7zB5k"
      }
    },
    {
      "cell_type": "code",
      "source": [
        "update_pff = pf.dropna(axis=0)\n",
        "#axis - Perform operations for Row"
      ],
      "metadata": {
        "id": "pcEhyOBDzBqB"
      },
      "execution_count": 9,
      "outputs": []
    },
    {
      "cell_type": "code",
      "source": [
        "update_pff.info()\n",
        "#null valur rows are gone"
      ],
      "metadata": {
        "colab": {
          "base_uri": "https://localhost:8080/"
        },
        "id": "yaG3Po3dzRA_",
        "outputId": "a3810c92-bb03-4109-c08e-dfb2370e0ae1"
      },
      "execution_count": 10,
      "outputs": [
        {
          "output_type": "stream",
          "name": "stdout",
          "text": [
            "<class 'pandas.core.frame.DataFrame'>\n",
            "Index: 8543 entries, 0 to 9999\n",
            "Data columns (total 14 columns):\n",
            " #   Column           Non-Null Count  Dtype  \n",
            "---  ------           --------------  -----  \n",
            " 0   RowNumber        8543 non-null   int64  \n",
            " 1   CustomerId       8543 non-null   int64  \n",
            " 2   Surname          8543 non-null   object \n",
            " 3   CreditScore      8543 non-null   int64  \n",
            " 4   Geography        8543 non-null   object \n",
            " 5   Gender           8543 non-null   object \n",
            " 6   Age              8543 non-null   float64\n",
            " 7   Tenure           8543 non-null   int64  \n",
            " 8   Balance          8543 non-null   float64\n",
            " 9   NumOfProducts    8543 non-null   int64  \n",
            " 10  HasCrCard        8543 non-null   int64  \n",
            " 11  IsActiveMember   8543 non-null   int64  \n",
            " 12  EstimatedSalary  8543 non-null   float64\n",
            " 13  Exited           8543 non-null   int64  \n",
            "dtypes: float64(3), int64(8), object(3)\n",
            "memory usage: 1001.1+ KB\n"
          ]
        }
      ]
    },
    {
      "cell_type": "markdown",
      "source": [
        "## B = Filling Missing DATA with value -imputation\n",
        "Data imputation is a technique used to replace missing values in a dataset with substituted values.\n",
        "\n",
        "\n"
      ],
      "metadata": {
        "id": "gYJFKNGR0xML"
      }
    },
    {
      "cell_type": "markdown",
      "source": [
        "#The Possible ways to do this are :\n",
        "\n",
        "*Filling missing data with the mean , median values if its a numerical varibale\n",
        "*Filling missing data with the mode if the data is categrical varibale\n",
        "*Filling value with 0 or -999 . or other number that will not occur in data that can ne done so that the machine can be recognize that the data is not real or is different.\n",
        "*Filling the categorical value with a new type for the missing values."
      ],
      "metadata": {
        "id": "FD3TPsv44mfA"
      }
    },
    {
      "cell_type": "code",
      "source": [
        "pf['Age'].mean()"
      ],
      "metadata": {
        "colab": {
          "base_uri": "https://localhost:8080/"
        },
        "id": "Lc4BARd78N1t",
        "outputId": "a44e6fd0-14de-4e5b-cd9f-81e1a78c232f"
      },
      "execution_count": 11,
      "outputs": [
        {
          "output_type": "execute_result",
          "data": {
            "text/plain": [
              "np.float64(38.96877777777778)"
            ]
          },
          "metadata": {},
          "execution_count": 11
        }
      ]
    },
    {
      "cell_type": "code",
      "source": [
        "pf['Age'].median()"
      ],
      "metadata": {
        "colab": {
          "base_uri": "https://localhost:8080/"
        },
        "id": "6nqlybjl4jz_",
        "outputId": "44a9ed83-093c-4b44-d4f1-10b5369a438f"
      },
      "execution_count": 12,
      "outputs": [
        {
          "output_type": "execute_result",
          "data": {
            "text/plain": [
              "37.0"
            ]
          },
          "metadata": {},
          "execution_count": 12
        }
      ]
    },
    {
      "cell_type": "code",
      "source": [
        "updated_pf = pf.copy()"
      ],
      "metadata": {
        "id": "PTzUrhzW4jwd"
      },
      "execution_count": 13,
      "outputs": []
    },
    {
      "cell_type": "markdown",
      "source": [
        "*   Fillna() -  filling the null value\n",
        "*   Dropna() -  drop the null records\n"
      ],
      "metadata": {
        "id": "66ieLcm8Awkj"
      }
    },
    {
      "cell_type": "code",
      "source": [
        "updated_pf['Age'] = updated_pf['Age'].fillna(updated_pf['Age'].mean())"
      ],
      "metadata": {
        "id": "mhNhvpp8AiuF"
      },
      "execution_count": 14,
      "outputs": []
    },
    {
      "cell_type": "markdown",
      "source": [
        "Too many outliers - better to use median\n",
        "Less number of outliers  - better to use meana"
      ],
      "metadata": {
        "id": "73GXZtRfQbeO"
      }
    },
    {
      "cell_type": "code",
      "source": [
        "updated_pf.info()"
      ],
      "metadata": {
        "colab": {
          "base_uri": "https://localhost:8080/"
        },
        "id": "ffzpnwf64jtn",
        "outputId": "351c81dd-2fb0-481d-c2c7-1316e22e6da5"
      },
      "execution_count": 15,
      "outputs": [
        {
          "output_type": "stream",
          "name": "stdout",
          "text": [
            "<class 'pandas.core.frame.DataFrame'>\n",
            "RangeIndex: 10000 entries, 0 to 9999\n",
            "Data columns (total 14 columns):\n",
            " #   Column           Non-Null Count  Dtype  \n",
            "---  ------           --------------  -----  \n",
            " 0   RowNumber        10000 non-null  int64  \n",
            " 1   CustomerId       10000 non-null  int64  \n",
            " 2   Surname          10000 non-null  object \n",
            " 3   CreditScore      10000 non-null  int64  \n",
            " 4   Geography        10000 non-null  object \n",
            " 5   Gender           9500 non-null   object \n",
            " 6   Age              10000 non-null  float64\n",
            " 7   Tenure           10000 non-null  int64  \n",
            " 8   Balance          10000 non-null  float64\n",
            " 9   NumOfProducts    10000 non-null  int64  \n",
            " 10  HasCrCard        10000 non-null  int64  \n",
            " 11  IsActiveMember   10000 non-null  int64  \n",
            " 12  EstimatedSalary  10000 non-null  float64\n",
            " 13  Exited           10000 non-null  int64  \n",
            "dtypes: float64(3), int64(8), object(3)\n",
            "memory usage: 1.1+ MB\n"
          ]
        }
      ]
    },
    {
      "cell_type": "markdown",
      "source": [
        "Forword and backword filling value"
      ],
      "metadata": {
        "id": "nrlCAa3MQlGw"
      }
    },
    {
      "cell_type": "code",
      "source": [
        "updated_pf_for_bac_value = pf.copy()"
      ],
      "metadata": {
        "id": "9famEA_t1wTw"
      },
      "execution_count": 16,
      "outputs": []
    },
    {
      "cell_type": "code",
      "source": [
        "updated_pf_for_bac_value.info()"
      ],
      "metadata": {
        "colab": {
          "base_uri": "https://localhost:8080/"
        },
        "id": "MxWofLwoRGBW",
        "outputId": "073bdfdb-3d5e-4c5f-a8f0-38f643525502"
      },
      "execution_count": 17,
      "outputs": [
        {
          "output_type": "stream",
          "name": "stdout",
          "text": [
            "<class 'pandas.core.frame.DataFrame'>\n",
            "RangeIndex: 10000 entries, 0 to 9999\n",
            "Data columns (total 14 columns):\n",
            " #   Column           Non-Null Count  Dtype  \n",
            "---  ------           --------------  -----  \n",
            " 0   RowNumber        10000 non-null  int64  \n",
            " 1   CustomerId       10000 non-null  int64  \n",
            " 2   Surname          10000 non-null  object \n",
            " 3   CreditScore      10000 non-null  int64  \n",
            " 4   Geography        10000 non-null  object \n",
            " 5   Gender           9500 non-null   object \n",
            " 6   Age              9000 non-null   float64\n",
            " 7   Tenure           10000 non-null  int64  \n",
            " 8   Balance          10000 non-null  float64\n",
            " 9   NumOfProducts    10000 non-null  int64  \n",
            " 10  HasCrCard        10000 non-null  int64  \n",
            " 11  IsActiveMember   10000 non-null  int64  \n",
            " 12  EstimatedSalary  10000 non-null  float64\n",
            " 13  Exited           10000 non-null  int64  \n",
            "dtypes: float64(3), int64(8), object(3)\n",
            "memory usage: 1.1+ MB\n"
          ]
        }
      ]
    },
    {
      "cell_type": "code",
      "source": [
        "updated_pf_for_bac_value['Age']= updated_pf_for_bac_value['Age'].bfill()"
      ],
      "metadata": {
        "id": "SzJrwGzuRKbO"
      },
      "execution_count": 18,
      "outputs": []
    },
    {
      "cell_type": "code",
      "source": [
        "updated_pf_for_bac_value.info()"
      ],
      "metadata": {
        "colab": {
          "base_uri": "https://localhost:8080/"
        },
        "id": "iCY98Ly5SccU",
        "outputId": "0493a4d6-e4e2-401d-96c0-d488002dc87d"
      },
      "execution_count": 19,
      "outputs": [
        {
          "output_type": "stream",
          "name": "stdout",
          "text": [
            "<class 'pandas.core.frame.DataFrame'>\n",
            "RangeIndex: 10000 entries, 0 to 9999\n",
            "Data columns (total 14 columns):\n",
            " #   Column           Non-Null Count  Dtype  \n",
            "---  ------           --------------  -----  \n",
            " 0   RowNumber        10000 non-null  int64  \n",
            " 1   CustomerId       10000 non-null  int64  \n",
            " 2   Surname          10000 non-null  object \n",
            " 3   CreditScore      10000 non-null  int64  \n",
            " 4   Geography        10000 non-null  object \n",
            " 5   Gender           9500 non-null   object \n",
            " 6   Age              10000 non-null  float64\n",
            " 7   Tenure           10000 non-null  int64  \n",
            " 8   Balance          10000 non-null  float64\n",
            " 9   NumOfProducts    10000 non-null  int64  \n",
            " 10  HasCrCard        10000 non-null  int64  \n",
            " 11  IsActiveMember   10000 non-null  int64  \n",
            " 12  EstimatedSalary  10000 non-null  float64\n",
            " 13  Exited           10000 non-null  int64  \n",
            "dtypes: float64(3), int64(8), object(3)\n",
            "memory usage: 1.1+ MB\n"
          ]
        }
      ]
    },
    {
      "cell_type": "code",
      "source": [
        "updated_pf_for_bac_value['Gender']= updated_pf_for_bac_value['Gender'].bfill()"
      ],
      "metadata": {
        "id": "7QhaWWQVSfFl"
      },
      "execution_count": 20,
      "outputs": []
    },
    {
      "cell_type": "code",
      "source": [
        "updated_pf_for_bac_value.info()"
      ],
      "metadata": {
        "colab": {
          "base_uri": "https://localhost:8080/"
        },
        "id": "imTlsi_ySs_a",
        "outputId": "9e5d212c-c6c2-42c7-e201-a72b0bee2feb"
      },
      "execution_count": 21,
      "outputs": [
        {
          "output_type": "stream",
          "name": "stdout",
          "text": [
            "<class 'pandas.core.frame.DataFrame'>\n",
            "RangeIndex: 10000 entries, 0 to 9999\n",
            "Data columns (total 14 columns):\n",
            " #   Column           Non-Null Count  Dtype  \n",
            "---  ------           --------------  -----  \n",
            " 0   RowNumber        10000 non-null  int64  \n",
            " 1   CustomerId       10000 non-null  int64  \n",
            " 2   Surname          10000 non-null  object \n",
            " 3   CreditScore      10000 non-null  int64  \n",
            " 4   Geography        10000 non-null  object \n",
            " 5   Gender           10000 non-null  object \n",
            " 6   Age              10000 non-null  float64\n",
            " 7   Tenure           10000 non-null  int64  \n",
            " 8   Balance          10000 non-null  float64\n",
            " 9   NumOfProducts    10000 non-null  int64  \n",
            " 10  HasCrCard        10000 non-null  int64  \n",
            " 11  IsActiveMember   10000 non-null  int64  \n",
            " 12  EstimatedSalary  10000 non-null  float64\n",
            " 13  Exited           10000 non-null  int64  \n",
            "dtypes: float64(3), int64(8), object(3)\n",
            "memory usage: 1.1+ MB\n"
          ]
        }
      ]
    },
    {
      "cell_type": "markdown",
      "source": [
        "# Feature scalling =\n",
        "Feature scaling is a data preprocessing technique used to standardize the range of independent variables or features of a dataset.\n",
        "\n"
      ],
      "metadata": {
        "id": "ySqueM4vUIZP"
      }
    },
    {
      "cell_type": "markdown",
      "source": [
        "\n",
        "* Data standardization in data science is a data preprocessing technique used to rescale data to have a mean of 0 and a standard deviation of 1\n",
        "\n",
        "Normalization is a process that transforms your data's features to a standard scale, typically between 0 and 1."
      ],
      "metadata": {
        "id": "wKi_Ur5naB5t"
      }
    }
  ]
}